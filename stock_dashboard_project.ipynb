{
 "cells": [
  {
   "cell_type": "markdown",
   "id": "cf8dcd13",
   "metadata": {},
   "source": [
    "### Question 1: Use yfinance to Extract Tesla Stock Data"
   ]
  },
  {
   "cell_type": "code",
   "execution_count": null,
   "id": "1045deb7",
   "metadata": {},
   "outputs": [],
   "source": [
    "\n",
    "import yfinance as yf\n",
    "import pandas as pd\n",
    "\n",
    "tesla = yf.Ticker(\"TSLA\")\n",
    "tesla_data = tesla.history(period=\"max\")\n",
    "tesla_data.reset_index(inplace=True)\n",
    "tesla_data.head()\n"
   ]
  },
  {
   "cell_type": "markdown",
   "id": "1229b593",
   "metadata": {},
   "source": [
    "### Question 2: Use Webscraping to Extract Tesla Revenue Data"
   ]
  },
  {
   "cell_type": "code",
   "execution_count": null,
   "id": "7598b0aa",
   "metadata": {},
   "outputs": [],
   "source": [
    "\n",
    "import requests\n",
    "from bs4 import BeautifulSoup\n",
    "\n",
    "url_tesla = \"https://www.macrotrends.net/stocks/charts/TSLA/tesla/revenue\"\n",
    "html_data_tesla = requests.get(url_tesla).text\n",
    "soup_tesla = BeautifulSoup(html_data_tesla, \"html.parser\")\n",
    "\n",
    "tesla_revenue = pd.DataFrame(columns=[\"Date\", \"Revenue\"])\n",
    "for row in soup_tesla.find_all(\"tr\"):\n",
    "    cols = row.find_all(\"td\")\n",
    "    if len(cols) == 2:\n",
    "        date = cols[0].text.strip()\n",
    "        revenue = cols[1].text.strip().replace(\"$\", \"\").replace(\",\", \"\")\n",
    "        if revenue != \"\":\n",
    "            tesla_revenue = pd.concat([tesla_revenue, pd.DataFrame([[date, revenue]], columns=[\"Date\", \"Revenue\"])], ignore_index=True)\n",
    "tesla_revenue[\"Revenue\"] = pd.to_numeric(tesla_revenue[\"Revenue\"])\n",
    "tesla_revenue.tail()\n"
   ]
  },
  {
   "cell_type": "markdown",
   "id": "189ce70c",
   "metadata": {},
   "source": [
    "### Question 3: Use yfinance to Extract GameStop Stock Data"
   ]
  },
  {
   "cell_type": "code",
   "execution_count": null,
   "id": "1295b893",
   "metadata": {},
   "outputs": [],
   "source": [
    "\n",
    "gme = yf.Ticker(\"GME\")\n",
    "gme_data = gme.history(period=\"max\")\n",
    "gme_data.reset_index(inplace=True)\n",
    "gme_data.head()\n"
   ]
  },
  {
   "cell_type": "markdown",
   "id": "8d3b811f",
   "metadata": {},
   "source": [
    "### Question 4: Use Webscraping to Extract GME Revenue Data"
   ]
  },
  {
   "cell_type": "code",
   "execution_count": null,
   "id": "6abd5b0d",
   "metadata": {},
   "outputs": [],
   "source": [
    "\n",
    "url_gme = \"https://www.macrotrends.net/stocks/charts/GME/gamestop/revenue\"\n",
    "html_data_gme = requests.get(url_gme).text\n",
    "soup_gme = BeautifulSoup(html_data_gme, \"html.parser\")\n",
    "\n",
    "gme_revenue = pd.DataFrame(columns=[\"Date\", \"Revenue\"])\n",
    "for row in soup_gme.find_all(\"tr\"):\n",
    "    cols = row.find_all(\"td\")\n",
    "    if len(cols) == 2:\n",
    "        date = cols[0].text.strip()\n",
    "        revenue = cols[1].text.strip().replace(\"$\", \"\").replace(\",\", \"\")\n",
    "        if revenue != \"\":\n",
    "            gme_revenue = pd.concat([gme_revenue, pd.DataFrame([[date, revenue]], columns=[\"Date\", \"Revenue\"])], ignore_index=True)\n",
    "gme_revenue[\"Revenue\"] = pd.to_numeric(gme_revenue[\"Revenue\"])\n",
    "gme_revenue.tail()\n"
   ]
  },
  {
   "cell_type": "markdown",
   "id": "624cf210",
   "metadata": {},
   "source": [
    "### Question 5: Plot Tesla Stock Graph"
   ]
  },
  {
   "cell_type": "code",
   "execution_count": null,
   "id": "97b2400a",
   "metadata": {},
   "outputs": [],
   "source": [
    "\n",
    "import plotly.graph_objects as go\n",
    "\n",
    "fig1 = go.Figure()\n",
    "fig1.add_trace(go.Scatter(x=tesla_data['Date'], y=tesla_data['Close'], name=\"Tesla Stock Price\"))\n",
    "fig1.update_layout(title=\"Tesla Stock Price Over Time\", xaxis_title=\"Date\", yaxis_title=\"Price (USD)\")\n",
    "fig1.show()\n"
   ]
  },
  {
   "cell_type": "markdown",
   "id": "257db352",
   "metadata": {},
   "source": [
    "### Question 6: Plot GameStop Stock Graph"
   ]
  },
  {
   "cell_type": "code",
   "execution_count": null,
   "id": "c76da5b4",
   "metadata": {},
   "outputs": [],
   "source": [
    "\n",
    "fig2 = go.Figure()\n",
    "fig2.add_trace(go.Scatter(x=gme_data['Date'], y=gme_data['Close'], name=\"GameStop Stock Price\"))\n",
    "fig2.update_layout(title=\"GameStop Stock Price Over Time\", xaxis_title=\"Date\", yaxis_title=\"Price (USD)\")\n",
    "fig2.show()\n"
   ]
  },
  {
   "cell_type": "code",
   "execution_count": null,
   "id": "2767cd45-e3ad-4dfe-911d-80ee4bc8a832",
   "metadata": {},
   "outputs": [],
   "source": [
    "!pip install yfinance\n"
   ]
  },
  {
   "cell_type": "code",
   "execution_count": null,
   "id": "caab7288-16e6-4306-9730-2f7e0bed32ae",
   "metadata": {},
   "outputs": [],
   "source": []
  },
  {
   "cell_type": "code",
   "execution_count": null,
   "id": "3e5612e8-5ef6-49a8-9869-9c43fd70332d",
   "metadata": {},
   "outputs": [],
   "source": []
  }
 ],
 "metadata": {
  "kernelspec": {
   "display_name": "Python 3 (ipykernel)",
   "language": "python",
   "name": "python3"
  },
  "language_info": {
   "codemirror_mode": {
    "name": "ipython",
    "version": 3
   },
   "file_extension": ".py",
   "mimetype": "text/x-python",
   "name": "python",
   "nbconvert_exporter": "python",
   "pygments_lexer": "ipython3",
   "version": "3.13.1"
  }
 },
 "nbformat": 4,
 "nbformat_minor": 5
}
